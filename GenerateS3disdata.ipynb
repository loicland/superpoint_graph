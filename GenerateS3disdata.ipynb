{
 "cells": [
  {
   "cell_type": "markdown",
   "metadata": {},
   "source": [
    "# Notebook for generating S3DIS like data from .ply"
   ]
  },
  {
   "cell_type": "code",
   "execution_count": 4,
   "metadata": {},
   "outputs": [],
   "source": [
    "import open3d as o3d\n",
    "import numpy as np"
   ]
  },
  {
   "cell_type": "code",
   "execution_count": 22,
   "metadata": {},
   "outputs": [],
   "source": [
    "infile = 'data/helix2/data/test/99DuxtonRd.ply'\n",
    "outfile = 'data/helix2/data/test/99DuxtonRd.txt'"
   ]
  },
  {
   "cell_type": "code",
   "execution_count": 5,
   "metadata": {},
   "outputs": [],
   "source": [
    "cloud = o3d.read_point_cloud(infile)\n",
    "pts = np.asarray(cloud.points)\n",
    "pts = pts - np.min(pts,axis=0,keepdims=True)"
   ]
  },
  {
   "cell_type": "code",
   "execution_count": 12,
   "metadata": {},
   "outputs": [],
   "source": [
    "colors = (np.asarray(cloud.colors)*255).astype('uint8')"
   ]
  },
  {
   "cell_type": "code",
   "execution_count": 20,
   "metadata": {},
   "outputs": [],
   "source": [
    "all_data = np.concatenate([pts,colors],axis = 1)"
   ]
  },
  {
   "cell_type": "code",
   "execution_count": 33,
   "metadata": {},
   "outputs": [],
   "source": [
    "with open(outfile,'w') as fp:\n",
    "    for row in all_data:\n",
    "        fp.write('%.3f %.3f %.3f %d %d %d\\n' % tuple(row))"
   ]
  },
  {
   "cell_type": "markdown",
   "metadata": {},
   "source": [
    "## Now doing the reverse: s3dis -> ply"
   ]
  },
  {
   "cell_type": "code",
   "execution_count": 11,
   "metadata": {},
   "outputs": [],
   "source": [
    "infile = 'data/S3DIS/data/Area_1/conferenceRoom_1/conferenceRoom_1.txt'\n",
    "outfile = 'data/helix/data/test/s3disconferenceRoom_1.ply'"
   ]
  },
  {
   "cell_type": "code",
   "execution_count": 6,
   "metadata": {},
   "outputs": [],
   "source": [
    "pts = []\n",
    "with open(infile,'r') as fp:\n",
    "    lines = fp.readlines()\n",
    "    for line in lines:\n",
    "        row = line.split(' ')\n",
    "        pts.append([float(row[0]),float(row[1]),float(row[2])])"
   ]
  },
  {
   "cell_type": "code",
   "execution_count": 7,
   "metadata": {},
   "outputs": [
    {
     "data": {
      "text/plain": [
       "array([[-15.609,  39.505,   2.214],\n",
       "       [-15.634,  39.518,   2.198],\n",
       "       [-15.622,  39.514,   2.195],\n",
       "       ...,\n",
       "       [-15.339,  39.561,   0.355],\n",
       "       [-15.331,  39.543,   0.419],\n",
       "       [-15.351,  39.569,   0.299]])"
      ]
     },
     "execution_count": 7,
     "metadata": {},
     "output_type": "execute_result"
    }
   ],
   "source": [
    "np.asarray(pts)"
   ]
  },
  {
   "cell_type": "code",
   "execution_count": 8,
   "metadata": {},
   "outputs": [],
   "source": [
    "cloud = o3d.PointCloud()\n",
    "cloud.points = o3d.Vector3dVector(pts)"
   ]
  },
  {
   "cell_type": "code",
   "execution_count": 12,
   "metadata": {},
   "outputs": [
    {
     "data": {
      "text/plain": [
       "True"
      ]
     },
     "execution_count": 12,
     "metadata": {},
     "output_type": "execute_result"
    }
   ],
   "source": [
    "o3d.write_point_cloud(outfile,cloud)"
   ]
  },
  {
   "cell_type": "code",
   "execution_count": null,
   "metadata": {},
   "outputs": [],
   "source": []
  }
 ],
 "metadata": {
  "kernelspec": {
   "display_name": "Python [conda env:superpoint]",
   "language": "python",
   "name": "conda-env-superpoint-py"
  },
  "language_info": {
   "codemirror_mode": {
    "name": "ipython",
    "version": 3
   },
   "file_extension": ".py",
   "mimetype": "text/x-python",
   "name": "python",
   "nbconvert_exporter": "python",
   "pygments_lexer": "ipython3",
   "version": "3.6.6"
  }
 },
 "nbformat": 4,
 "nbformat_minor": 2
}
