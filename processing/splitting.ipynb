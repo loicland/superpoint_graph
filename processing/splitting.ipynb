{
 "cells": [
  {
   "cell_type": "markdown",
   "metadata": {},
   "source": [
    "# Splitting data"
   ]
  },
  {
   "cell_type": "markdown",
   "metadata": {},
   "source": [
    "## Import"
   ]
  },
  {
   "cell_type": "code",
   "execution_count": 2,
   "metadata": {},
   "outputs": [],
   "source": [
    "import sys\n",
    "import os\n",
    "\n",
    "\n",
    "import matplotlib\n",
    "import matplotlib.pylab as plt\n",
    "import time\n",
    "import numpy as np\n",
    "import open3d\n",
    "from laspy.file import File\n",
    "from laspy.header import Header\n",
    "\n",
    "import math\n",
    "\n",
    "os.environ[\"PATH\"]+=os.pathsep+os.path.dirname(sys.executable)\n"
   ]
  },
  {
   "cell_type": "markdown",
   "metadata": {},
   "source": [
    "## Code helper"
   ]
  },
  {
   "cell_type": "code",
   "execution_count": 2,
   "metadata": {},
   "outputs": [],
   "source": [
    "def las_to_open3d(path):\n",
    "    \"\"\"\n",
    "    Loads an las or laz file and returns an open3d point cloud as well\n",
    "    as the file's header. This is useful for saving the cloud back to disk\n",
    "    \"\"\"    \n",
    "    inFile = File(path, mode='r')\n",
    "\n",
    "    xyz = np.zeros((len(inFile.X),3),dtype=np.float32)\n",
    "    xyz[:,0] = inFile.x\n",
    "    xyz[:,1] = inFile.y\n",
    "    xyz[:,2] = inFile.z\n",
    "    colors = np.zeros((len(inFile.red),3),dtype=np.float32)\n",
    "    try:\n",
    "        colors[:,0] = inFile.red / 255\n",
    "        colors[:,1] = inFile.green / 255\n",
    "        colors[:,2] = inFile.blue / 255\n",
    "    except:\n",
    "        pass\n",
    "    \n",
    "    cloud = open3d.PointCloud()\n",
    "    cloud.points = open3d.Vector3dVector(xyz)\n",
    "    cloud.colors = open3d.Vector3dVector(xyz)\n",
    "\n",
    "    return cloud,inFile.header"
   ]
  },
  {
   "cell_type": "code",
   "execution_count": 3,
   "metadata": {},
   "outputs": [],
   "source": [
    "def plot_2d(clouds,axis_range=None,size = 100000,savefile = None,display=True, show_axis = False, wall_list_x = [], wall_list_y=[], additional_signal=None):\n",
    "    \"\"\"\n",
    "    Plots a point cloud in 2d (in the x,y plane)\n",
    "    You can use this function to generate images from the cloud and save to disk directly\n",
    "    \"\"\"\n",
    "    try:\n",
    "        #Init figure\n",
    "        x_size = 20\n",
    "        if axis_range:\n",
    "            ratio = (axis_range[1] - axis_range[0])/(axis_range[3] - axis_range[2])\n",
    "        else:\n",
    "            ratio = 1\n",
    "        fig = plt.figure(figsize=(x_size,x_size / ratio))\n",
    "        \n",
    "        #Print clouds\n",
    "        for cloud in clouds:\n",
    "            cloud_arr = np.asarray(cloud.points)\n",
    "            if size > cloud_arr.shape[0]:\n",
    "                idx = np.random.randint(len(cloud_arr), size=size)\n",
    "                cloud_arr_sub = cloud_arr[idx,:]\n",
    "            else:\n",
    "                cloud_arr_sub = cloud_arr\n",
    "            color = np.random.rand(3)\n",
    "            plt.plot(cloud_arr_sub[:,0],cloud_arr_sub[:,1],\"o\",markersize=0.2,color=color)\n",
    "        if additional_signal:\n",
    "            plt.plot(additional_signal[0],additional_signal[1])\n",
    "        plt.axis(\"equal\")\n",
    "        if axis_range:\n",
    "            plt.axis(axis_range)\n",
    "            for wall in wall_list_x:\n",
    "                plt.plot([wall,wall],[axis_range[2],axis_range[3]],'k-')\n",
    "            for wall in wall_list_y:\n",
    "                plt.plot([axis_range[0],axis_range[1]],[wall, wall],'k-')\n",
    "        if not show_axis:\n",
    "            plt.axis('off')\n",
    "        if savefile:\n",
    "            plt.savefig(savefile,dpi=150)\n",
    "        if display:\n",
    "            plt.show()\n",
    "    except Exception as e:\n",
    "        print(e)"
   ]
  },
  {
   "cell_type": "code",
   "execution_count": 4,
   "metadata": {},
   "outputs": [],
   "source": [
    "def get_floorceiling(cloud,min_distance_floor_cieling = 2 ):\n",
    "    bin_size = 0.05\n",
    "    z_histogram = create_histogram(cloud,bin_size,2)\n",
    "    \n",
    "    # extracts floors and celing\n",
    "    sorted_counts = np.sort(z_histogram[0])\n",
    "    lcounts = list(z_histogram[0])\n",
    "    floor = 1e6\n",
    "    ceiling = -1e6\n",
    "    for i in range(len(sorted_counts)):\n",
    "        counts = sorted_counts[-(i+1)]\n",
    "        index = lcounts.index(counts)\n",
    "        zlevel = z_histogram[1][index]\n",
    "        if zlevel < floor:\n",
    "            floor = zlevel\n",
    "        if zlevel > ceiling:\n",
    "            ceiling = zlevel\n",
    "        if (ceiling - floor) > min_distance_floor_cieling:\n",
    "            return (floor,ceiling,z_histogram)\n",
    "    return (floor,ceiling,z_histogram)\n",
    "\n",
    "def create_histogram(o3dcloud, bin_size=0.1, axis =2):\n",
    "    numpy_cloud = np.asarray(o3dcloud.points)\n",
    "    hmin = np.min(numpy_cloud[:,axis])\n",
    "    hmax = np.max(numpy_cloud[:,axis])\n",
    "    nb_bins = int(abs(hmax - hmin) / bin_size)\n",
    "    return np.histogram(numpy_cloud[:,axis],bins = np.linspace(hmin,hmax,nb_bins))"
   ]
  },
  {
   "cell_type": "markdown",
   "metadata": {},
   "source": [
    "# Data"
   ]
  },
  {
   "cell_type": "markdown",
   "metadata": {},
   "source": [
    "## Loading Entire Point Cloud"
   ]
  },
  {
   "cell_type": "code",
   "execution_count": 6,
   "metadata": {},
   "outputs": [],
   "source": [
    "#INPUT_FILE = '../data/TEST/data/test/room_1900.ply'\n",
    "#pcd = open3d.read_point_cloud(INPUT_FILE)\n",
    "\n",
    "#INPUT_FILE = '../data/weWork/data/demo/helix_san_mateo_lvl2_03_clean.laz' \n",
    "#cloud, header = las_to_open3d(INPUT_FILE)\n",
    "\n",
    "INPUT_FILE = '../data/helix_bis/data/test/crop_11.txt' #'../data/custom_S3DIS/data/Area_1/crop_9.txt'\n",
    "cloud = open3d.read_point_cloud(INPUT_FILE,  format='xyz') # when reading from .txt files \n",
    "open3d.write_point_cloud('../data/helix_bis/data/test/crop_11.ply', cloud)"
   ]
  },
  {
   "cell_type": "markdown",
   "metadata": {},
   "source": [
    "## downsizing it (if too massive)"
   ]
  },
  {
   "cell_type": "code",
   "execution_count": null,
   "metadata": {},
   "outputs": [],
   "source": [
    "small_cloud = open3d.voxel_down_sample(cloud, voxel_size = 0.03)"
   ]
  },
  {
   "cell_type": "code",
   "execution_count": 8,
   "metadata": {},
   "outputs": [
    {
     "data": {
      "text/plain": [
       "True"
      ]
     },
     "execution_count": 8,
     "metadata": {},
     "output_type": "execute_result"
    }
   ],
   "source": [
    "open3d.write_point_cloud('../data/weWork/data/demo/helix_san_mateo_lvl2_03_clean.ply', cloud)"
   ]
  },
  {
   "cell_type": "code",
   "execution_count": 41,
   "metadata": {},
   "outputs": [
    {
     "data": {
      "text/plain": [
       "std::vector<Eigen::Vector3d> with 140609548 elements.\n",
       "Use numpy.asarray() to access data."
      ]
     },
     "execution_count": 41,
     "metadata": {},
     "output_type": "execute_result"
    }
   ],
   "source": [
    "cloud1.points"
   ]
  },
  {
   "cell_type": "markdown",
   "metadata": {},
   "source": [
    "## Splitting"
   ]
  },
  {
   "cell_type": "code",
   "execution_count": 6,
   "metadata": {},
   "outputs": [
    {
     "name": "stdout",
     "output_type": "stream",
     "text": [
      "Floor level = -0.010307728942307803\n",
      "Celing level = 3.0913072626923075\n"
     ]
    },
    {
     "data": {
      "image/png": "[encoded data removed]",
      "text/plain": [
       "<Figure size 1440x735.045 with 1 Axes>"
      ]
     },
     "metadata": {
      "needs_background": "light"
     },
     "output_type": "display_data"
    }
   ],
   "source": [
    "#VOXEL_GRID = 0.03\n",
    "#cloud03 = open3d.voxel_down_sample(cloud,VOXEL_GRID)\n",
    "\n",
    "(floor,ceiling,z_histogram) = get_floorceiling(cloud)\n",
    "print(\"Floor level = \" + str(floor))\n",
    "print(\"Celing level = \" + str(ceiling))\n",
    "\n",
    "minbox = cloud.get_min_bound()\n",
    "maxbox = cloud.get_max_bound()\n",
    "ROOF_CEILING_PADDING = (ceiling - floor)*0.1\n",
    "new_cloud = open3d.crop_point_cloud(cloud,[minbox[0],minbox[1],floor - ROOF_CEILING_PADDING],[maxbox[0],maxbox[1],ceiling + ROOF_CEILING_PADDING])\n",
    "plot_2d([new_cloud],size = -1,axis_range=[minbox[0],maxbox[0],minbox[1],maxbox[1]],show_axis=True)"
   ]
  },
  {
   "cell_type": "code",
   "execution_count": 9,
   "metadata": {},
   "outputs": [],
   "source": [
    "xmin = minbox[0]\n",
    "ymin = minbox[1]\n",
    "xmax = maxbox[0]\n",
    "ymax = maxbox[1]"
   ]
  },
  {
   "cell_type": "markdown",
   "metadata": {},
   "source": [
    "I am cropping the point cloud in a row order from left to right."
   ]
  },
  {
   "cell_type": "code",
   "execution_count": 10,
   "metadata": {},
   "outputs": [
    {
     "name": "stdout",
     "output_type": "stream",
     "text": [
      " width : 9 ; height : 5\n"
     ]
    }
   ],
   "source": [
    "w = math.ceil((xmax-xmin)/6)\n",
    "h = math.ceil((ymax-ymin)/6)\n",
    "print(' width : {} ; height : {}'.format(w,h))"
   ]
  },
  {
   "cell_type": "code",
   "execution_count": 11,
   "metadata": {},
   "outputs": [],
   "source": [
    "rooms = {}\n",
    "for x in range(1,w*h):\n",
    "    rooms['outfile_{}'.format(x)]=  '../data/custom_S3DIS/data/Area_1/crop_{}.txt'.format(x)"
   ]
  },
  {
   "cell_type": "code",
   "execution_count": 31,
   "metadata": {},
   "outputs": [
    {
     "ename": "KeyError",
     "evalue": "'outfile_-1'",
     "output_type": "error",
     "traceback": [
      "\u001b[0;31m---------------------------------------------------------------------------\u001b[0m",
      "\u001b[0;31mKeyError\u001b[0m                                  Traceback (most recent call last)",
      "\u001b[0;32m<ipython-input-31-53d8ea1cc821>\u001b[0m in \u001b[0;36m<module>\u001b[0;34m\u001b[0m\n\u001b[1;32m      8\u001b[0m         \u001b[0mrow\u001b[0m \u001b[0;34m=\u001b[0m \u001b[0mmath\u001b[0m\u001b[0;34m.\u001b[0m\u001b[0mceil\u001b[0m\u001b[0;34m(\u001b[0m\u001b[0;34m(\u001b[0m\u001b[0my\u001b[0m\u001b[0;34m-\u001b[0m\u001b[0mymin\u001b[0m\u001b[0;34m)\u001b[0m\u001b[0;34m/\u001b[0m\u001b[0;36m6\u001b[0m\u001b[0;34m)\u001b[0m\u001b[0;34m\u001b[0m\u001b[0;34m\u001b[0m\u001b[0m\n\u001b[1;32m      9\u001b[0m         \u001b[0mcol\u001b[0m \u001b[0;34m=\u001b[0m \u001b[0mmath\u001b[0m\u001b[0;34m.\u001b[0m\u001b[0mceil\u001b[0m\u001b[0;34m(\u001b[0m\u001b[0;34m(\u001b[0m\u001b[0mx\u001b[0m\u001b[0;34m-\u001b[0m\u001b[0mxmin\u001b[0m\u001b[0;34m)\u001b[0m\u001b[0;34m/\u001b[0m\u001b[0;36m6\u001b[0m\u001b[0;34m)\u001b[0m\u001b[0;34m\u001b[0m\u001b[0;34m\u001b[0m\u001b[0m\n\u001b[0;32m---> 10\u001b[0;31m         \u001b[0moutfile\u001b[0m \u001b[0;34m=\u001b[0m \u001b[0mrooms\u001b[0m\u001b[0;34m[\u001b[0m\u001b[0;34m'outfile_{}'\u001b[0m\u001b[0;34m.\u001b[0m\u001b[0mformat\u001b[0m\u001b[0;34m(\u001b[0m\u001b[0mw\u001b[0m\u001b[0;34m*\u001b[0m\u001b[0;34m(\u001b[0m\u001b[0mrow\u001b[0m\u001b[0;34m-\u001b[0m\u001b[0;36m1\u001b[0m\u001b[0;34m)\u001b[0m\u001b[0;34m+\u001b[0m\u001b[0mcol\u001b[0m\u001b[0;34m)\u001b[0m\u001b[0;34m]\u001b[0m\u001b[0;34m\u001b[0m\u001b[0;34m\u001b[0m\u001b[0m\n\u001b[0m\u001b[1;32m     11\u001b[0m         \u001b[0;32mwith\u001b[0m \u001b[0mopen\u001b[0m\u001b[0;34m(\u001b[0m\u001b[0moutfile\u001b[0m\u001b[0;34m,\u001b[0m \u001b[0;34m'a'\u001b[0m\u001b[0;34m)\u001b[0m \u001b[0;32mas\u001b[0m \u001b[0mout_file\u001b[0m\u001b[0;34m:\u001b[0m\u001b[0;34m\u001b[0m\u001b[0;34m\u001b[0m\u001b[0m\n\u001b[1;32m     12\u001b[0m             \u001b[0mout_file\u001b[0m\u001b[0;34m.\u001b[0m\u001b[0mwrite\u001b[0m\u001b[0;34m(\u001b[0m\u001b[0mstr\u001b[0m\u001b[0;34m(\u001b[0m\u001b[0mx\u001b[0m\u001b[0;34m)\u001b[0m\u001b[0;34m+\u001b[0m\u001b[0;34m' '\u001b[0m\u001b[0;34m+\u001b[0m\u001b[0mstr\u001b[0m\u001b[0;34m(\u001b[0m\u001b[0my\u001b[0m\u001b[0;34m)\u001b[0m\u001b[0;34m+\u001b[0m\u001b[0;34m' '\u001b[0m\u001b[0;34m+\u001b[0m\u001b[0mstr\u001b[0m\u001b[0;34m(\u001b[0m\u001b[0mz\u001b[0m\u001b[0;34m)\u001b[0m\u001b[0;34m+\u001b[0m\u001b[0;34m' '\u001b[0m\u001b[0;34m+\u001b[0m\u001b[0mstr\u001b[0m\u001b[0;34m(\u001b[0m\u001b[0mr\u001b[0m\u001b[0;34m)\u001b[0m\u001b[0;34m+\u001b[0m\u001b[0;34m' '\u001b[0m\u001b[0;34m+\u001b[0m\u001b[0mstr\u001b[0m\u001b[0;34m(\u001b[0m\u001b[0mg\u001b[0m\u001b[0;34m)\u001b[0m\u001b[0;34m+\u001b[0m\u001b[0;34m' '\u001b[0m\u001b[0;34m+\u001b[0m\u001b[0mstr\u001b[0m\u001b[0;34m(\u001b[0m\u001b[0mb\u001b[0m\u001b[0;34m)\u001b[0m\u001b[0;34m+\u001b[0m\u001b[0;34m' '\u001b[0m\u001b[0;34m+\u001b[0m\u001b[0mstr\u001b[0m\u001b[0;34m(\u001b[0m\u001b[0mol\u001b[0m\u001b[0;34m)\u001b[0m\u001b[0;34m+\u001b[0m\u001b[0;34m' '\u001b[0m\u001b[0;34m+\u001b[0m\u001b[0mstr\u001b[0m\u001b[0;34m(\u001b[0m\u001b[0moi\u001b[0m\u001b[0;34m)\u001b[0m\u001b[0;34m+\u001b[0m\u001b[0;34m' '\u001b[0m\u001b[0;34m+\u001b[0m\u001b[0mstr\u001b[0m\u001b[0;34m(\u001b[0m\u001b[0mrl\u001b[0m\u001b[0;34m)\u001b[0m\u001b[0;34m+\u001b[0m\u001b[0;34m' '\u001b[0m\u001b[0;34m+\u001b[0m\u001b[0mstr\u001b[0m\u001b[0;34m(\u001b[0m\u001b[0mri\u001b[0m\u001b[0;34m)\u001b[0m\u001b[0;34m+\u001b[0m\u001b[0;34m'\\n'\u001b[0m \u001b[0;34m)\u001b[0m\u001b[0;34m\u001b[0m\u001b[0;34m\u001b[0m\u001b[0m\n",
      "\u001b[0;31mKeyError\u001b[0m: 'outfile_-1'"
     ]
    }
   ],
   "source": [
    "delimiter = ' ' \n",
    "with open(INPUT_FILE, 'r') as in_file:\n",
    "    for line in in_file:\n",
    "        X = np.array(line.split(delimiter), dtype='float32')\n",
    "        x,y,z = X[0], X[1], X[2]\n",
    "        r,g,b = X[3].astype('uint8'), X[4].astype('uint8'), X[5].astype('uint8')\n",
    "        ol, oi, rl, ri = X[6].astype('uint8'), X[7].astype('uint8'), X[8].astype('uint8'), X[9].astype('uint8')\n",
    "        if y-ymin <= 0 :\n",
    "            row = 1\n",
    "        else :\n",
    "            row = math.ceil((y-ymin)/6)\n",
    "        if x-xmin <= 0 :\n",
    "            col = 1\n",
    "        else :\n",
    "            col = math.ceil((x-xmin)/6)\n",
    "        \n",
    "        outfile = rooms['outfile_{}'.format(w*(row-1)+col)]\n",
    "        with open(outfile, 'a') as out_file:\n",
    "            out_file.write(str(x)+' '+str(y)+' '+str(z)+' '+str(r)+' '+str(g)+' '+str(b)+' '+str(ol)+' '+str(oi)+' '+str(rl)+' '+str(ri)+'\\n' )\n",
    "            out_file.close()"
   ]
  },
  {
   "cell_type": "code",
   "execution_count": null,
   "metadata": {},
   "outputs": [],
   "source": []
  },
  {
   "cell_type": "code",
   "execution_count": 5,
   "metadata": {},
   "outputs": [
    {
     "name": "stdout",
     "output_type": "stream",
     "text": [
      "../s3dis_full/Area_1.txt\n",
      " width : 9 ; height : 5\n",
      "../s3dis_full/Area_2.txt\n",
      " width : 9 ; height : 6\n",
      "../s3dis_full/Area_3.txt\n",
      " width : 5 ; height : 5\n",
      "../s3dis_full/Area_4.txt\n",
      " width : 8 ; height : 5\n",
      "../s3dis_full/Area_5.txt\n",
      " width : 12 ; height : 8\n",
      "../s3dis_full/Area_6.txt\n",
      " width : 8 ; height : 4\n"
     ]
    }
   ],
   "source": [
    "for number in range(1,7):\n",
    "    INPUT_FILE = '../s3dis_full/Area_{}.txt'.format(number) \n",
    "    print(INPUT_FILE)\n",
    "    cloud = open3d.read_point_cloud(INPUT_FILE,  format='xyz')\n",
    "\n",
    "    minbox = cloud.get_min_bound()\n",
    "    maxbox = cloud.get_max_bound()\n",
    "\n",
    "    xmin = minbox[0]\n",
    "    ymin = minbox[1]\n",
    "    xmax = maxbox[0]\n",
    "    ymax = maxbox[1]\n",
    "\n",
    "    w = math.ceil((xmax-xmin)/6)\n",
    "    h = math.ceil((ymax-ymin)/6)\n",
    "    print(' width : {} ; height : {}'.format(w,h))\n",
    "\n",
    "    rooms = {}\n",
    "    for x in range(1,w*h+1):\n",
    "        rooms['outfile_{}'.format(x)]=  '../data/custom_S3DIS/data/Area_{}/crop_{}.txt'.format(number, x)\n",
    "\n",
    "    delimiter = ' ' \n",
    "    with open(INPUT_FILE, 'r') as in_file:\n",
    "        for line in in_file:\n",
    "            X = np.array(line.split(delimiter), dtype='float32')\n",
    "            x,y,z = X[0], X[1], X[2]\n",
    "            r,g,b = X[3].astype('uint8'), X[4].astype('uint8'), X[5].astype('uint8')\n",
    "            ol, oi, rl, ri = X[6].astype('uint8'), X[7].astype('uint8'), X[8].astype('uint8'), X[9].astype('uint8')\n",
    "            if y-ymin <= 0 :\n",
    "                row = 1\n",
    "            else :\n",
    "                row = math.ceil((y-ymin)/6)\n",
    "            if x-xmin <= 0 :\n",
    "                col = 1\n",
    "            else :\n",
    "                col = math.ceil((x-xmin)/6)\n",
    "\n",
    "            outfile = rooms['outfile_{}'.format(w*(row-1)+col)]\n",
    "            with open(outfile, 'a') as out_file:\n",
    "                out_file.write(str(x)+' '+str(y)+' '+str(z)+' '+str(r)+' '+str(g)+' '+str(b)+' '+str(ol)+' '+str(oi)+' '+str(rl)+' '+str(ri)+'\\n' )\n",
    "                out_file.close()"
   ]
  },
  {
   "cell_type": "code",
   "execution_count": null,
   "metadata": {},
   "outputs": [],
   "source": []
  },
  {
   "cell_type": "code",
   "execution_count": null,
   "metadata": {},
   "outputs": [],
   "source": []
  },
  {
   "cell_type": "code",
   "execution_count": null,
   "metadata": {},
   "outputs": [],
   "source": []
  },
  {
   "cell_type": "code",
   "execution_count": null,
   "metadata": {},
   "outputs": [],
   "source": []
  },
  {
   "cell_type": "code",
   "execution_count": null,
   "metadata": {},
   "outputs": [],
   "source": [
    "area = np.genfromtxt(INPUT_FILE, delimiter=' ')\n",
    "\n",
    "xyz = np.array(area[:, 0:3], dtype='float32')\n",
    "rgb = np.array(area[:, 3:6], dtype='uint8')\n",
    "object_label = np.array(area[:, 6], dtype='uint8')\n",
    "object_id = np.array(area[:, 7], dtype='uint8')\n",
    "room_label = np.array(area[:, 8], dtype='uint8')\n",
    "room_id = np.array(area[:, 9], dtype='uint8')"
   ]
  },
  {
   "cell_type": "code",
   "execution_count": null,
   "metadata": {},
   "outputs": [],
   "source": [
    "nRows = area.shape[0]\n",
    "\n",
    "for i in range(nRows):\n",
    "    x,y,z = xyz[i,0], xyz[i,1], xyz[i,2]\n",
    "    r,g,b = rgb[i,0], rgb[i,1], rgb[i,2]\n",
    "    ol, oi, rl, rl = object_label[i], object_id[i], room_label[i], room_id[i]\n",
    "    row = math.ceil(y-ymin/6)\n",
    "    col = math.ceil(x-xmin/6)\n",
    "    outfile = rooms['outfile_{}'.format(w*(row-1)+col)]\n",
    "    with open(outfile, 'a') as outfile:\n",
    "        out_file.write(x+' '+y+' '+z+' '+r+' '+g+' '+b+' '+ol+' '+oi+' '+rl+' '+ri+'\\n' )"
   ]
  },
  {
   "cell_type": "code",
   "execution_count": null,
   "metadata": {},
   "outputs": [],
   "source": []
  },
  {
   "cell_type": "code",
   "execution_count": null,
   "metadata": {},
   "outputs": [],
   "source": []
  },
  {
   "cell_type": "code",
   "execution_count": 20,
   "metadata": {},
   "outputs": [],
   "source": [
    "# generating 6x6 'rooms' by dividing the point cloud according to a grid\n",
    "n = 0\n",
    "ymin = minbox[1]\n",
    "while ymin < maxbox[1]:\n",
    "    xmin = minbox[0]\n",
    "    while xmin < maxbox[0]:\n",
    "        n += 1\n",
    "        crop = open3d.crop_point_cloud(cloud,[xmin,ymin,floor - ROOF_CEILING_PADDING],[xmin+6, ymin+6, ceiling + ROOF_CEILING_PADDING])\n",
    "        open3d.write_point_cloud('../data/custom_S3DIS/data/Area_1/crop_{}.ply'.format(n), crop)\n",
    "        xmin += 6\n",
    "    ymin += 6\n",
    "        "
   ]
  },
  {
   "cell_type": "code",
   "execution_count": 21,
   "metadata": {},
   "outputs": [
    {
     "data": {
      "text/plain": [
       "45"
      ]
     },
     "execution_count": 21,
     "metadata": {},
     "output_type": "execute_result"
    }
   ],
   "source": [
    "n"
   ]
  },
  {
   "cell_type": "markdown",
   "metadata": {},
   "source": [
    "## Normalizing rooms\n"
   ]
  },
  {
   "cell_type": "code",
   "execution_count": 3,
   "metadata": {},
   "outputs": [],
   "source": [
    "INPUT_FILE = '../data/TEST/data/test/test_02.ply' #'../data/custom_S3DIS/data/Area_1/crop_9.txt' superpoint_graph/data/helix_bis/data/test/crop_13-Copy1.ply\n",
    "cloud = open3d.read_point_cloud(INPUT_FILE) # when reading from .txt files \n",
    "#open3d.write_point_cloud('../data/helix/data/test/crop_12_NA.ply', cloud)"
   ]
  },
  {
   "cell_type": "code",
   "execution_count": 4,
   "metadata": {},
   "outputs": [],
   "source": [
    "# Align x,y,z with  origin\n",
    "pts = np.asarray(cloud.points)\n",
    "pts = pts  - np.min(pts,axis=0,keepdims=True) "
   ]
  },
  {
   "cell_type": "code",
   "execution_count": 8,
   "metadata": {},
   "outputs": [],
   "source": [
    "pts[:,:2] = (pts[:,:2] - np.min(pts[:,:2],axis=0,keepdims=True) )/(np.max(pts[:,:2],axis=0,keepdims=True)  - np.min(pts[:,:2],axis=0,keepdims=True) ) - 0.5"
   ]
  },
  {
   "cell_type": "code",
   "execution_count": 26,
   "metadata": {},
   "outputs": [],
   "source": [
    "# Normalizing x, y between -0.5 and 0.5\n",
    "x_min = np.min(pts[:,0])\n",
    "x_max = np.max(pts[:,0])\n",
    "y_min = np.min(pts[:,1])\n",
    "y_max = np.max(pts[:,1])"
   ]
  },
  {
   "cell_type": "code",
   "execution_count": 27,
   "metadata": {},
   "outputs": [],
   "source": [
    "pts[:,0] = (pts[:,0] - x_min)/(x_max - x_min) - 0.5\n",
    "pts[:,1] = (pts[:,1] - y_min)/(y_max - y_min) - 0.5"
   ]
  },
  {
   "cell_type": "code",
   "execution_count": 9,
   "metadata": {},
   "outputs": [
    {
     "name": "stdout",
     "output_type": "stream",
     "text": [
      "Feature 0; Min: -0.5; Max: 0.5\n",
      "Feature 1; Min: -0.5; Max: 0.5\n",
      "Feature 2; Min: 0.0; Max: 3.7849998\n"
     ]
    }
   ],
   "source": [
    "for i in range(pts.shape[1]):\n",
    "    print(\"Feature \"+ str(i)+\"; Min: \" + str(np.min(pts[:,i])) + \"; Max: \" + str(np.max(pts[:,i]) ))"
   ]
  },
  {
   "cell_type": "code",
   "execution_count": 40,
   "metadata": {},
   "outputs": [],
   "source": [
    "cloud.points = open3d.Vector3dVector(pts)"
   ]
  },
  {
   "cell_type": "code",
   "execution_count": 42,
   "metadata": {},
   "outputs": [
    {
     "data": {
      "text/plain": [
       "True"
      ]
     },
     "execution_count": 42,
     "metadata": {},
     "output_type": "execute_result"
    }
   ],
   "source": [
    "open3d.write_point_cloud('../data/helix/data/test/crop_12.ply', cloud)"
   ]
  }
 ],
 "metadata": {
  "kernelspec": {
   "display_name": "Python [conda env:superpoint]",
   "language": "python",
   "name": "conda-env-superpoint-py"
  },
  "language_info": {
   "codemirror_mode": {
    "name": "ipython",
    "version": 3
   },
   "file_extension": ".py",
   "mimetype": "text/x-python",
   "name": "python",
   "nbconvert_exporter": "python",
   "pygments_lexer": "ipython3",
   "version": "3.6.7"
  }
 },
 "nbformat": 4,
 "nbformat_minor": 2
}
