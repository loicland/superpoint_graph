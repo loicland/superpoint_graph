{
 "cells": [
  {
   "cell_type": "markdown",
   "metadata": {},
   "source": [
    "# Splitting data"
   ]
  },
  {
   "cell_type": "markdown",
   "metadata": {},
   "source": [
    "## Import"
   ]
  },
  {
   "cell_type": "code",
   "execution_count": 1,
   "metadata": {},
   "outputs": [],
   "source": [
    "import sys\n",
    "import os\n",
    "\n",
    "\n",
    "import matplotlib\n",
    "import matplotlib.pylab as plt\n",
    "import time\n",
    "import numpy as np\n",
    "import open3d\n",
    "from laspy.file import File\n",
    "from laspy.header import Header\n",
    "\n",
    "os.environ[\"PATH\"]+=os.pathsep+os.path.dirname(sys.executable)\n"
   ]
  },
  {
   "cell_type": "markdown",
   "metadata": {},
   "source": [
    "## Code helper"
   ]
  },
  {
   "cell_type": "code",
   "execution_count": 2,
   "metadata": {},
   "outputs": [],
   "source": [
    "def las_to_open3d(path):\n",
    "    \"\"\"\n",
    "    Loads an las or laz file and returns an open3d point cloud as well\n",
    "    as the file's header. This is useful for saving the cloud back to disk\n",
    "    \"\"\"    \n",
    "    inFile = File(path, mode='r')\n",
    "\n",
    "    xyz = np.zeros((len(inFile.X),3),dtype=np.float32)\n",
    "    xyz[:,0] = inFile.x\n",
    "    xyz[:,1] = inFile.y\n",
    "    xyz[:,2] = inFile.z\n",
    "    colors = np.zeros((len(inFile.red),3),dtype=np.float32)\n",
    "    try:\n",
    "        colors[:,0] = inFile.red / 255\n",
    "        colors[:,1] = inFile.green / 255\n",
    "        colors[:,2] = inFile.blue / 255\n",
    "    except:\n",
    "        pass\n",
    "    \n",
    "    cloud = open3d.PointCloud()\n",
    "    cloud.points = open3d.Vector3dVector(xyz)\n",
    "    cloud.colors = open3d.Vector3dVector(xyz)\n",
    "\n",
    "    return cloud,inFile.header"
   ]
  },
  {
   "cell_type": "code",
   "execution_count": 3,
   "metadata": {},
   "outputs": [],
   "source": [
    "def plot_2d(clouds,axis_range=None,size = 100000,savefile = None,display=True, show_axis = False, wall_list_x = [], wall_list_y=[], additional_signal=None):\n",
    "    \"\"\"\n",
    "    Plots a point cloud in 2d (in the x,y plane)\n",
    "    You can use this function to generate images from the cloud and save to disk directly\n",
    "    \"\"\"\n",
    "    try:\n",
    "        #Init figure\n",
    "        x_size = 20\n",
    "        if axis_range:\n",
    "            ratio = (axis_range[1] - axis_range[0])/(axis_range[3] - axis_range[2])\n",
    "        else:\n",
    "            ratio = 1\n",
    "        fig = plt.figure(figsize=(x_size,x_size / ratio))\n",
    "        \n",
    "        #Print clouds\n",
    "        for cloud in clouds:\n",
    "            cloud_arr = np.asarray(cloud.points)\n",
    "            if size > cloud_arr.shape[0]:\n",
    "                idx = np.random.randint(len(cloud_arr), size=size)\n",
    "                cloud_arr_sub = cloud_arr[idx,:]\n",
    "            else:\n",
    "                cloud_arr_sub = cloud_arr\n",
    "            color = np.random.rand(3)\n",
    "            plt.plot(cloud_arr_sub[:,0],cloud_arr_sub[:,1],\"o\",markersize=0.2,color=color)\n",
    "        if additional_signal:\n",
    "            plt.plot(additional_signal[0],additional_signal[1])\n",
    "        plt.axis(\"equal\")\n",
    "        if axis_range:\n",
    "            plt.axis(axis_range)\n",
    "            for wall in wall_list_x:\n",
    "                plt.plot([wall,wall],[axis_range[2],axis_range[3]],'k-')\n",
    "            for wall in wall_list_y:\n",
    "                plt.plot([axis_range[0],axis_range[1]],[wall, wall],'k-')\n",
    "        if not show_axis:\n",
    "            plt.axis('off')\n",
    "        if savefile:\n",
    "            plt.savefig(savefile,dpi=150)\n",
    "        if display:\n",
    "            plt.show()\n",
    "    except Exception as e:\n",
    "        print(e)"
   ]
  },
  {
   "cell_type": "code",
   "execution_count": 4,
   "metadata": {},
   "outputs": [],
   "source": [
    "def get_floorceiling(cloud,min_distance_floor_cieling = 2 ):\n",
    "    bin_size = 0.05\n",
    "    z_histogram = create_histogram(cloud,bin_size,2)\n",
    "    \n",
    "    # extracts floors and celing\n",
    "    sorted_counts = np.sort(z_histogram[0])\n",
    "    lcounts = list(z_histogram[0])\n",
    "    floor = 1e6\n",
    "    ceiling = -1e6\n",
    "    for i in range(len(sorted_counts)):\n",
    "        counts = sorted_counts[-(i+1)]\n",
    "        index = lcounts.index(counts)\n",
    "        zlevel = z_histogram[1][index]\n",
    "        if zlevel < floor:\n",
    "            floor = zlevel\n",
    "        if zlevel > ceiling:\n",
    "            ceiling = zlevel\n",
    "        if (ceiling - floor) > min_distance_floor_cieling:\n",
    "            return (floor,ceiling,z_histogram)\n",
    "    return (floor,ceiling,z_histogram)\n",
    "\n",
    "def create_histogram(o3dcloud, bin_size=0.1, axis =2):\n",
    "    numpy_cloud = np.asarray(o3dcloud.points)\n",
    "    hmin = np.min(numpy_cloud[:,axis])\n",
    "    hmax = np.max(numpy_cloud[:,axis])\n",
    "    nb_bins = int(abs(hmax - hmin) / bin_size)\n",
    "    return np.histogram(numpy_cloud[:,axis],bins = np.linspace(hmin,hmax,nb_bins))"
   ]
  },
  {
   "cell_type": "markdown",
   "metadata": {},
   "source": [
    "# Data"
   ]
  },
  {
   "cell_type": "markdown",
   "metadata": {},
   "source": [
    "## Loading Entire Point Cloud"
   ]
  },
  {
   "cell_type": "code",
   "execution_count": 5,
   "metadata": {},
   "outputs": [],
   "source": [
    "#INPUT_FILE = '../data/TEST/data/test/room_1900.ply'\n",
    "#pcd = open3d.read_point_cloud(INPUT_FILE)\n",
    "\n",
    "#INPUT_FILE = '../data/weWork/data/demo/helix_san_mateo_lvl2_03_clean.laz' \n",
    "#cloud, header = las_to_open3d(INPUT_FILE)\n",
    "\n",
    "INPUT_FILE = '../s3dis_full/Area_1.txt'\n",
    "cloud = open3d.read_point_cloud(INPUT_FILE,  format='xyz') # when reading from .txt files"
   ]
  },
  {
   "cell_type": "markdown",
   "metadata": {},
   "source": [
    "## downsizing it (if too massive)"
   ]
  },
  {
   "cell_type": "code",
   "execution_count": null,
   "metadata": {},
   "outputs": [],
   "source": [
    "small_cloud = open3d.voxel_down_sample(cloud, voxel_size = 0.03)"
   ]
  },
  {
   "cell_type": "code",
   "execution_count": 8,
   "metadata": {},
   "outputs": [
    {
     "data": {
      "text/plain": [
       "True"
      ]
     },
     "execution_count": 8,
     "metadata": {},
     "output_type": "execute_result"
    }
   ],
   "source": [
    "open3d.write_point_cloud('../data/weWork/data/demo/helix_san_mateo_lvl2_03_clean.ply', cloud)"
   ]
  },
  {
   "cell_type": "code",
   "execution_count": 41,
   "metadata": {},
   "outputs": [
    {
     "data": {
      "text/plain": [
       "std::vector<Eigen::Vector3d> with 140609548 elements.\n",
       "Use numpy.asarray() to access data."
      ]
     },
     "execution_count": 41,
     "metadata": {},
     "output_type": "execute_result"
    }
   ],
   "source": [
    "cloud1.points"
   ]
  },
  {
   "cell_type": "markdown",
   "metadata": {},
   "source": [
    "## Splitting"
   ]
  },
  {
   "cell_type": "code",
   "execution_count": 6,
   "metadata": {},
   "outputs": [
    {
     "name": "stdout",
     "output_type": "stream",
     "text": [
      "Floor level = -0.010307728942307803\n",
      "Celing level = 3.0913072626923075\n"
     ]
    },
    {
     "data": {
      "image/png": "[encoded data removed]",
      "text/plain": [
       "<Figure size 1440x735.045 with 1 Axes>"
      ]
     },
     "metadata": {
      "needs_background": "light"
     },
     "output_type": "display_data"
    }
   ],
   "source": [
    "#VOXEL_GRID = 0.03\n",
    "#cloud03 = open3d.voxel_down_sample(cloud,VOXEL_GRID)\n",
    "\n",
    "(floor,ceiling,z_histogram) = get_floorceiling(cloud)\n",
    "print(\"Floor level = \" + str(floor))\n",
    "print(\"Celing level = \" + str(ceiling))\n",
    "\n",
    "minbox = cloud.get_min_bound()\n",
    "maxbox = cloud.get_max_bound()\n",
    "ROOF_CEILING_PADDING = (ceiling - floor)*0.1\n",
    "new_cloud = open3d.crop_point_cloud(cloud,[minbox[0],minbox[1],floor - ROOF_CEILING_PADDING],[maxbox[0],maxbox[1],ceiling + ROOF_CEILING_PADDING])\n",
    "plot_2d([new_cloud],size = -1,axis_range=[minbox[0],maxbox[0],minbox[1],maxbox[1]],show_axis=True)"
   ]
  },
  {
   "cell_type": "code",
   "execution_count": null,
   "metadata": {},
   "outputs": [],
   "source": [
    "xmin = minbox[0]\n",
    "ymin = minbox[1]"
   ]
  },
  {
   "cell_type": "code",
   "execution_count": null,
   "metadata": {},
   "outputs": [],
   "source": []
  },
  {
   "cell_type": "code",
   "execution_count": null,
   "metadata": {},
   "outputs": [],
   "source": []
  },
  {
   "cell_type": "code",
   "execution_count": 26,
   "metadata": {},
   "outputs": [],
   "source": [
    "# generating 6x6 'rooms' by dividing the point cloud according to a grid\n",
    "n = 0\n",
    "ymin = minbox[1]\n",
    "while ymin < maxbox[1]:\n",
    "    xmin = minbox[0]\n",
    "    while xmin < maxbox[0]:\n",
    "        n += 1\n",
    "        crop = open3d.crop_point_cloud(cloud,[xmin,ymin,floor - ROOF_CEILING_PADDING],[xmin+6, ymin+6, ceiling + ROOF_CEILING_PADDING])\n",
    "        open3d.write_point_cloud('../data/custom_S3DIS/Area_5/crop_{}.ply'.format(n), crop)\n",
    "        xmin += 6\n",
    "    ymin += 6\n",
    "        "
   ]
  },
  {
   "cell_type": "code",
   "execution_count": 27,
   "metadata": {},
   "outputs": [
    {
     "data": {
      "text/plain": [
       "96"
      ]
     },
     "execution_count": 27,
     "metadata": {},
     "output_type": "execute_result"
    }
   ],
   "source": [
    "n"
   ]
  }
 ],
 "metadata": {
  "kernelspec": {
   "display_name": "Python [conda env:superpoint]",
   "language": "python",
   "name": "conda-env-superpoint-py"
  },
  "language_info": {
   "codemirror_mode": {
    "name": "ipython",
    "version": 3
   },
   "file_extension": ".py",
   "mimetype": "text/x-python",
   "name": "python",
   "nbconvert_exporter": "python",
   "pygments_lexer": "ipython3",
   "version": "3.6.7"
  }
 },
 "nbformat": 4,
 "nbformat_minor": 2
}
