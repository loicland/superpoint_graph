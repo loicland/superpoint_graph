{
 "cells": [
  {
   "cell_type": "markdown",
   "metadata": {},
   "source": [
    "# Splitting data"
   ]
  },
  {
   "cell_type": "markdown",
   "metadata": {},
   "source": [
    "## Import"
   ]
  },
  {
   "cell_type": "code",
   "execution_count": 1,
   "metadata": {},
   "outputs": [],
   "source": [
    "import sys\n",
    "import os\n",
    "\n",
    "\n",
    "import matplotlib\n",
    "import matplotlib.pylab as plt\n",
    "import time\n",
    "import numpy as np\n",
    "import open3d\n",
    "from laspy.file import File\n",
    "from laspy.header import Header\n",
    "\n",
    "os.environ[\"PATH\"]+=os.pathsep+os.path.dirname(sys.executable)\n"
   ]
  },
  {
   "cell_type": "markdown",
   "metadata": {},
   "source": [
    "## Code helper"
   ]
  },
  {
   "cell_type": "code",
   "execution_count": 2,
   "metadata": {},
   "outputs": [],
   "source": [
    "def las_to_open3d(path):\n",
    "    \"\"\"\n",
    "    Loads an las or laz file and returns an open3d point cloud as well\n",
    "    as the file's header. This is useful for saving the cloud back to disk\n",
    "    \"\"\"    \n",
    "    inFile = File(path, mode='r')\n",
    "\n",
    "    xyz = np.zeros((len(inFile.X),3),dtype=np.float32)\n",
    "    xyz[:,0] = inFile.x\n",
    "    xyz[:,1] = inFile.y\n",
    "    xyz[:,2] = inFile.z\n",
    "    colors = np.zeros((len(inFile.red),3),dtype=np.float32)\n",
    "    try:\n",
    "        colors[:,0] = inFile.red / 255\n",
    "        colors[:,1] = inFile.green / 255\n",
    "        colors[:,2] = inFile.blue / 255\n",
    "    except:\n",
    "        pass\n",
    "    \n",
    "    cloud = open3d.PointCloud()\n",
    "    cloud.points = open3d.Vector3dVector(xyz)\n",
    "    cloud.colors = open3d.Vector3dVector(xyz)\n",
    "\n",
    "    return cloud,inFile.header"
   ]
  },
  {
   "cell_type": "code",
   "execution_count": 3,
   "metadata": {},
   "outputs": [],
   "source": [
    "def plot_2d(clouds,axis_range=None,size = 100000,savefile = None,display=True, show_axis = False, wall_list_x = [], wall_list_y=[], additional_signal=None):\n",
    "    \"\"\"\n",
    "    Plots a point cloud in 2d (in the x,y plane)\n",
    "    You can use this function to generate images from the cloud and save to disk directly\n",
    "    \"\"\"\n",
    "    try:\n",
    "        #Init figure\n",
    "        x_size = 20\n",
    "        if axis_range:\n",
    "            ratio = (axis_range[1] - axis_range[0])/(axis_range[3] - axis_range[2])\n",
    "        else:\n",
    "            ratio = 1\n",
    "        fig = plt.figure(figsize=(x_size,x_size / ratio))\n",
    "        \n",
    "        #Print clouds\n",
    "        for cloud in clouds:\n",
    "            cloud_arr = np.asarray(cloud.points)\n",
    "            if size > cloud_arr.shape[0]:\n",
    "                idx = np.random.randint(len(cloud_arr), size=size)\n",
    "                cloud_arr_sub = cloud_arr[idx,:]\n",
    "            else:\n",
    "                cloud_arr_sub = cloud_arr\n",
    "            color = np.random.rand(3)\n",
    "            plt.plot(cloud_arr_sub[:,0],cloud_arr_sub[:,1],\"o\",markersize=0.2,color=color)\n",
    "        if additional_signal:\n",
    "            plt.plot(additional_signal[0],additional_signal[1])\n",
    "        plt.axis(\"equal\")\n",
    "        if axis_range:\n",
    "            plt.axis(axis_range)\n",
    "            for wall in wall_list_x:\n",
    "                plt.plot([wall,wall],[axis_range[2],axis_range[3]],'k-')\n",
    "            for wall in wall_list_y:\n",
    "                plt.plot([axis_range[0],axis_range[1]],[wall, wall],'k-')\n",
    "        if not show_axis:\n",
    "            plt.axis('off')\n",
    "        if savefile:\n",
    "            plt.savefig(savefile,dpi=150)\n",
    "        if display:\n",
    "            plt.show()\n",
    "    except Exception as e:\n",
    "        print(e)"
   ]
  },
  {
   "cell_type": "code",
   "execution_count": 4,
   "metadata": {},
   "outputs": [],
   "source": [
    "def get_floorceiling(cloud,min_distance_floor_cieling = 2 ):\n",
    "    bin_size = 0.05\n",
    "    z_histogram = create_histogram(cloud,bin_size,2)\n",
    "    \n",
    "    # extracts floors and celing\n",
    "    sorted_counts = np.sort(z_histogram[0])\n",
    "    lcounts = list(z_histogram[0])\n",
    "    floor = 1e6\n",
    "    ceiling = -1e6\n",
    "    for i in range(len(sorted_counts)):\n",
    "        counts = sorted_counts[-(i+1)]\n",
    "        index = lcounts.index(counts)\n",
    "        zlevel = z_histogram[1][index]\n",
    "        if zlevel < floor:\n",
    "            floor = zlevel\n",
    "        if zlevel > ceiling:\n",
    "            ceiling = zlevel\n",
    "        if (ceiling - floor) > min_distance_floor_cieling:\n",
    "            return (floor,ceiling,z_histogram)\n",
    "    return (floor,ceiling,z_histogram)\n",
    "\n",
    "def create_histogram(o3dcloud, bin_size=0.1, axis =2):\n",
    "    numpy_cloud = np.asarray(o3dcloud.points)\n",
    "    hmin = np.min(numpy_cloud[:,axis])\n",
    "    hmax = np.max(numpy_cloud[:,axis])\n",
    "    nb_bins = int(abs(hmax - hmin) / bin_size)\n",
    "    return np.histogram(numpy_cloud[:,axis],bins = np.linspace(hmin,hmax,nb_bins))"
   ]
  },
  {
   "cell_type": "markdown",
   "metadata": {},
   "source": [
    "# Data"
   ]
  },
  {
   "cell_type": "markdown",
   "metadata": {},
   "source": [
    "## Loading Entire Point Cloud"
   ]
  },
  {
   "cell_type": "code",
   "execution_count": 6,
   "metadata": {},
   "outputs": [],
   "source": [
    "#data_path = '../data/TEST/data/test/room_1900.ply'\n",
    "#pcd = open3d.read_point_cloud(data_path)\n",
    "\n",
    "#data_path = '../data/helix_bis/data/1600-google-amphi/1600ampFullPointCloud.las'\n",
    "#cloud, header = las_to_open3d(data_path)\n",
    "\n",
    "data_path = '../data/helix_bis/data/1950-charleston-road/level2.ply'\n",
    "cloud03 = open3d.read_point_cloud(data_path)"
   ]
  },
  {
   "cell_type": "markdown",
   "metadata": {},
   "source": [
    "## downsizing it (too massive)"
   ]
  },
  {
   "cell_type": "code",
   "execution_count": 6,
   "metadata": {},
   "outputs": [],
   "source": [
    "small_cloud = open3d.voxel_down_sample(cloud, voxel_size = 0.03)"
   ]
  },
  {
   "cell_type": "code",
   "execution_count": 7,
   "metadata": {},
   "outputs": [
    {
     "data": {
      "text/plain": [
       "True"
      ]
     },
     "execution_count": 7,
     "metadata": {},
     "output_type": "execute_result"
    }
   ],
   "source": [
    "open3d.write_point_cloud('../data/helix_bis/data/1950-charleston-road/level2.ply', small_cloud)"
   ]
  },
  {
   "cell_type": "markdown",
   "metadata": {},
   "source": [
    "## Splitting"
   ]
  },
  {
   "cell_type": "code",
   "execution_count": 7,
   "metadata": {},
   "outputs": [
    {
     "name": "stdout",
     "output_type": "stream",
     "text": [
      "Floor level = -0.0245507580893376\n",
      "Celing level = 3.0018419061388295\n"
     ]
    }
   ],
   "source": [
    "#VOXEL_GRID = 0.03\n",
    "#cloud03 = open3d.voxel_down_sample(cloud,VOXEL_GRID)\n",
    "\n",
    "(floor,ceiling,z_histogram) = get_floorceiling(cloud03)\n",
    "print(\"Floor level = \" + str(floor))\n",
    "print(\"Celing level = \" + str(ceiling))"
   ]
  },
  {
   "cell_type": "code",
   "execution_count": 11,
   "metadata": {},
   "outputs": [
    {
     "data": {
      "image/png": "[encoded data removed]",
      "text/plain": [
       "<Figure size 1440x736.082 with 1 Axes>"
      ]
     },
     "metadata": {
      "needs_background": "light"
     },
     "output_type": "display_data"
    }
   ],
   "source": [
    "minbox = cloud03.get_min_bound()\n",
    "maxbox = cloud03.get_max_bound()\n",
    "ROOF_CEILING_PADDING = (ceiling - floor)*0.1\n",
    "new_cloud03 = open3d.crop_point_cloud(cloud03,[minbox[0],minbox[1],floor - ROOF_CEILING_PADDING],[maxbox[0],maxbox[1],ceiling + ROOF_CEILING_PADDING])\n",
    "plot_2d([new_cloud03],size = -1,axis_range=[minbox[0],maxbox[0],minbox[1],maxbox[1]],show_axis=True)"
   ]
  },
  {
   "cell_type": "markdown",
   "metadata": {},
   "source": [
    "Getting 5 random crops at different size :"
   ]
  },
  {
   "cell_type": "code",
   "execution_count": 28,
   "metadata": {},
   "outputs": [],
   "source": [
    "i = 0\n",
    "while i < 5:\n",
    "    x = np.random.randint(minbox[0], maxbox[0] - 9)\n",
    "    y = np.random.randint(minbox[1], maxbox[1] - 9)\n",
    "    rd_crop = open3d.crop_point_cloud(cloud03,[x,y,floor - ROOF_CEILING_PADDING],[x+8,y+8,ceiling + ROOF_CEILING_PADDING])\n",
    "    open3d.write_point_cloud('../data/helix_bis/data/1950-charleston-road/test8_{}.ply'.format(i), rd_crop)\n",
    "    i = i+1\n"
   ]
  },
  {
   "cell_type": "code",
   "execution_count": 42,
   "metadata": {},
   "outputs": [
    {
     "data": {
      "text/plain": [
       "True"
      ]
     },
     "execution_count": 42,
     "metadata": {},
     "output_type": "execute_result"
    }
   ],
   "source": [
    "open3d.write_point_cloud('../data/helix_bis/data/1600-google-amphi/test_11.ply', no_roofceiling_cloud03)"
   ]
  },
  {
   "cell_type": "code",
   "execution_count": 19,
   "metadata": {},
   "outputs": [
    {
     "data": {
      "text/plain": [
       "3"
      ]
     },
     "execution_count": 19,
     "metadata": {},
     "output_type": "execute_result"
    }
   ],
   "source": [
    "np.random.randint(0,10)"
   ]
  },
  {
   "cell_type": "code",
   "execution_count": 22,
   "metadata": {},
   "outputs": [
    {
     "data": {
      "text/plain": [
       "14.538394927978516"
      ]
     },
     "execution_count": 22,
     "metadata": {},
     "output_type": "execute_result"
    }
   ],
   "source": [
    "maxbox[1]"
   ]
  },
  {
   "cell_type": "code",
   "execution_count": 29,
   "metadata": {},
   "outputs": [
    {
     "data": {
      "text/plain": [
       "True"
      ]
     },
     "execution_count": 29,
     "metadata": {},
     "output_type": "execute_result"
    }
   ],
   "source": [
    "x = np.random.randint(minbox[0], maxbox[0] - 9)\n",
    "y = np.random.randint(minbox[1], maxbox[1] - 9)\n",
    "rd_crop = open3d.crop_point_cloud(cloud03,[x,y,floor - ROOF_CEILING_PADDING],[x+8,y+8,ceiling + ROOF_CEILING_PADDING])\n",
    "open3d.write_point_cloud('../data/helix_bis/data/1950-charleston-road/test8_3.ply', rd_crop)"
   ]
  },
  {
   "cell_type": "code",
   "execution_count": null,
   "metadata": {},
   "outputs": [],
   "source": []
  }
 ],
 "metadata": {
  "kernelspec": {
   "display_name": "Python [conda env:superpoint]",
   "language": "python",
   "name": "conda-env-superpoint-py"
  },
  "language_info": {
   "codemirror_mode": {
    "name": "ipython",
    "version": 3
   },
   "file_extension": ".py",
   "mimetype": "text/x-python",
   "name": "python",
   "nbconvert_exporter": "python",
   "pygments_lexer": "ipython3",
   "version": "3.6.7"
  }
 },
 "nbformat": 4,
 "nbformat_minor": 2
}
